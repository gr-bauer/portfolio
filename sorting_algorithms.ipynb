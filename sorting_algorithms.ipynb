{
  "nbformat": 4,
  "nbformat_minor": 0,
  "metadata": {
    "colab": {
      "name": "algorithms.ipynb",
      "provenance": [],
      "collapsed_sections": []
    },
    "kernelspec": {
      "name": "python3",
      "display_name": "Python 3"
    }
  },
  "cells": [
    {
      "cell_type": "markdown",
      "metadata": {
        "id": "fape3xcYoY7R",
        "colab_type": "text"
      },
      "source": [
        "## Python implementation of sorting algorithms presented in [Harvard's CS50](https://study.cs50.net/binary_search) lecture."
      ]
    },
    {
      "cell_type": "code",
      "metadata": {
        "id": "T1Mq7u1pfsCU",
        "colab_type": "code",
        "colab": {}
      },
      "source": [
        "import random"
      ],
      "execution_count": 1,
      "outputs": []
    },
    {
      "cell_type": "code",
      "metadata": {
        "id": "lcHCKT9dfwnn",
        "colab_type": "code",
        "colab": {
          "base_uri": "https://localhost:8080/",
          "height": 34
        },
        "outputId": "2090df1c-a562-4835-d4fc-7ca9ebe7c09c"
      },
      "source": [
        "# create array to sort\n",
        "random.seed(42)\n",
        "array = random.sample(range(0, 100), 8)\n",
        "print(array)"
      ],
      "execution_count": 10,
      "outputs": [
        {
          "output_type": "stream",
          "text": [
            "[81, 14, 3, 94, 35, 31, 28, 17]\n"
          ],
          "name": "stdout"
        }
      ]
    },
    {
      "cell_type": "markdown",
      "metadata": {
        "id": "1nBJX8E-zWFT",
        "colab_type": "text"
      },
      "source": [
        "### Bubble sort"
      ]
    },
    {
      "cell_type": "markdown",
      "metadata": {
        "id": "JfAWmNrnzeLq",
        "colab_type": "text"
      },
      "source": [
        "#### Simple implementation"
      ]
    },
    {
      "cell_type": "markdown",
      "metadata": {
        "id": "Wc2yCn4GN3eK",
        "colab_type": "text"
      },
      "source": [
        "1. Step through entire list, swapping adjacent values if not in order\n",
        "2. Repear from step 1 if any swaps have been made"
      ]
    },
    {
      "cell_type": "code",
      "metadata": {
        "id": "Fivrx7gwubMJ",
        "colab_type": "code",
        "colab": {
          "base_uri": "https://localhost:8080/",
          "height": 34
        },
        "outputId": "73c6332a-398f-41f2-c508-c8fb20979db0"
      },
      "source": [
        "# simplest implementation\n",
        "swaps = 1\n",
        "\n",
        "while swaps > 0:\n",
        "    swaps = 0\n",
        "\n",
        "    for j in range(len(array) - 1):\n",
        "        if array[j] > array[j + 1]:\n",
        "            array[j],  array[j + 1] = array[j + 1], array[j]\n",
        "            swaps += 1\n",
        "\n",
        "array"
      ],
      "execution_count": 7,
      "outputs": [
        {
          "output_type": "execute_result",
          "data": {
            "text/plain": [
              "[3, 14, 17, 28, 31, 35, 81, 94]"
            ]
          },
          "metadata": {
            "tags": []
          },
          "execution_count": 7
        }
      ]
    },
    {
      "cell_type": "markdown",
      "metadata": {
        "id": "M8wh2R8Szi9z",
        "colab_type": "text"
      },
      "source": [
        "#### More efficient implementation"
      ]
    },
    {
      "cell_type": "markdown",
      "metadata": {
        "id": "hDYn25cUzLMT",
        "colab_type": "text"
      },
      "source": [
        "The algorithm is more efficient there are less comparisons being made thanks to the inner loop. Indeed, the number of comparisons declines after each iterations:\n",
        "\n",
        "* At iteration 1: $j_1$ with $j_2$, $j_2$ with $j_3$ [...] $j_{n-1}$ with $j_n$\n",
        "* At iteration 2: $j_1$ with $j_2$, $j_2$ with $j_3$ [...] $j_{n-2}$ with $j_{n-1}$. No need to compare $j_{n-1}$ with $j_n$ because the last element is already correctly in place.\n",
        "* Apply same logic [...] until iteration n-2: $j_1$ with $j_2$\n",
        "\n",
        "In summary there are (n - 1) + (n - 2)...(2) + (1) comparisons or n(n - 1)/2 or O(n2)."
      ]
    },
    {
      "cell_type": "code",
      "metadata": {
        "id": "Wcr38y5_f8EE",
        "colab_type": "code",
        "colab": {
          "base_uri": "https://localhost:8080/",
          "height": 34
        },
        "outputId": "1407b948-8748-43f8-ecd4-a0b9a8ac095f"
      },
      "source": [
        "# loop over each element to get all elements in correct place\n",
        "for i in range(len(array)):\n",
        "    swapped = False\n",
        "    \n",
        "    # put the next largest element into place\n",
        "    for j in range(len(array) - i -1):\n",
        "\n",
        "        # swap adjacent elements if unordered\n",
        "        if array[j] > array[j + 1]:\n",
        "            array[j],  array[j + 1] = array[j + 1], array[j]\n",
        "            swapped = True\n",
        "\n",
        "    if swapped == False:\n",
        "            break\n",
        "\n",
        "array"
      ],
      "execution_count": 9,
      "outputs": [
        {
          "output_type": "execute_result",
          "data": {
            "text/plain": [
              "[3, 14, 17, 28, 31, 35, 81, 94]"
            ]
          },
          "metadata": {
            "tags": []
          },
          "execution_count": 9
        }
      ]
    },
    {
      "cell_type": "markdown",
      "metadata": {
        "id": "PGFwPhMtAUuF",
        "colab_type": "text"
      },
      "source": [
        "### Insertition sort"
      ]
    },
    {
      "cell_type": "code",
      "metadata": {
        "id": "8MfMMKXDAdoD",
        "colab_type": "code",
        "colab": {
          "base_uri": "https://localhost:8080/",
          "height": 34
        },
        "outputId": "f2801d24-36af-453f-812a-cfe6c910b409"
      },
      "source": [
        "# iterate through unsorted part of array from l->r\n",
        "for i in range(1, len(array)):\n",
        "    j = i - 1           # define start of sorted array\n",
        "    to_sort = array[i]  # define element to sort\n",
        "\n",
        "    # iterate through sorted part of array from r->l\n",
        "    # figure out where in sorted portion element should go\n",
        "    while j >= 0 and to_sort < array[j]:\n",
        "        array[j + 1] = array[j]\n",
        "        j -= 1\n",
        "\n",
        "    # insert element into sorted portion of array\n",
        "    array[j + 1] = to_sort\n",
        "\n",
        "array"
      ],
      "execution_count": 12,
      "outputs": [
        {
          "output_type": "execute_result",
          "data": {
            "text/plain": [
              "[3, 14, 17, 28, 31, 35, 81, 94]"
            ]
          },
          "metadata": {
            "tags": []
          },
          "execution_count": 12
        }
      ]
    },
    {
      "cell_type": "code",
      "metadata": {
        "id": "cMtzJiGUQ-xV",
        "colab_type": "code",
        "colab": {}
      },
      "source": [
        ""
      ],
      "execution_count": 5,
      "outputs": []
    }
  ]
}